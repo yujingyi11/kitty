{
 "cells": [
  {
   "cell_type": "code",
   "execution_count": 1,
   "metadata": {},
   "outputs": [],
   "source": [
    "import pandas as pd"
   ]
  },
  {
   "cell_type": "code",
   "execution_count": 2,
   "metadata": {},
   "outputs": [],
   "source": [
    "作业提交信息 = pd.read_csv(R'data\\第一次作业提交信息.csv',encoding='GBK',usecols=['姓名','学号','Github仓库地址'])"
   ]
  },
  {
   "cell_type": "code",
   "execution_count": 3,
   "metadata": {},
   "outputs": [],
   "source": [
    "作业提交信息.to_csv(R'output/csv读写结果.csv',index=False)"
   ]
  },
  {
   "cell_type": "code",
   "execution_count": 4,
   "metadata": {},
   "outputs": [],
   "source": [
    "#读写excel文件\n",
    "原始数据 = R'data\\000_《统计与数据分析》课程第一次作业收集_提交统计.xlsx'\n",
    "工作表 = '提交清单' #替换为你要读取的工作表名称\n",
    "列表列名 = ['姓名','学号','Github仓库地址'] # 替换为你要读取的列名列表\n",
    "\n",
    "#读取指定列数据\n",
    "df1 = pd.read_excel(原始数据, sheet_name=工作表,usecols=列表列名)"
   ]
  },
  {
   "cell_type": "code",
   "execution_count": 5,
   "metadata": {},
   "outputs": [],
   "source": [
    "df1.to_excel('output/excel写入练习.xlsx',index=False)"
   ]
  },
  {
   "cell_type": "code",
   "execution_count": 6,
   "metadata": {},
   "outputs": [],
   "source": [
    "#读写SPSS的sav格式数据\n",
    "df2 = pd.read_spss(R'data\\identity.sav')"
   ]
  },
  {
   "cell_type": "code",
   "execution_count": 7,
   "metadata": {},
   "outputs": [],
   "source": [
    "import pyreadstat"
   ]
  },
  {
   "cell_type": "code",
   "execution_count": 8,
   "metadata": {},
   "outputs": [],
   "source": [
    "df3,mata = pyreadstat.read_sav('data\\identity.sav',formats_as_ordered_category=True)"
   ]
  },
  {
   "cell_type": "code",
   "execution_count": 9,
   "metadata": {},
   "outputs": [],
   "source": [
    "df3.to_excel('output/sav数据zhuancun.xlsx')"
   ]
  },
  {
   "cell_type": "code",
   "execution_count": 17,
   "metadata": {},
   "outputs": [],
   "source": [
    "#读取pdf中的表格数据\n",
    "import pdfplumber\n",
    "\n",
    "\n",
    "pdf = pdfplumber.open('data\\高考核心词汇1278.pdf')\n",
    "\n",
    "\n",
    "table = []\n",
    "for i in range(len(pdf.pages )-1):\n",
    "    page = pdf.pages[i+1]\n",
    "    table.extend(page.extract_table())\n",
    "table1_df = pd.DataFrame(table[2:])\n"
   ]
  }
 ],
 "metadata": {
  "kernelspec": {
   "display_name": "Python 3",
   "language": "python",
   "name": "python3"
  },
  "language_info": {
   "codemirror_mode": {
    "name": "ipython",
    "version": 3
   },
   "file_extension": ".py",
   "mimetype": "text/x-python",
   "name": "python",
   "nbconvert_exporter": "python",
   "pygments_lexer": "ipython3",
   "version": "3.8.10"
  },
  "orig_nbformat": 4
 },
 "nbformat": 4,
 "nbformat_minor": 2
}
