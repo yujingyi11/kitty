{
 "cells": [
  {
   "cell_type": "code",
   "execution_count": 13,
   "metadata": {},
   "outputs": [],
   "source": [
    "import pandas as pd\n",
    "from scipy import stats\n",
    "# 打开数据文件\n",
    "file_path = R\"C:\\Users\\24703\\Desktop\\kitty\\data\\movie_data_cleaned.csv\"\n",
    "df_movies = pd.read_csv(file_path)"
   ]
  },
  {
   "cell_type": "code",
   "execution_count": 14,
   "metadata": {},
   "outputs": [
    {
     "name": "stdout",
     "output_type": "stream",
     "text": [
      "均值： 7.20\n",
      "均值在置信水平0.95下的置信区间为： (7.171337577138237, 7.2214184794700635)\n"
     ]
    }
   ],
   "source": [
    "# 计算均值和标准误差\n",
    "mean = df_movies['average'].mean()\n",
    "std_error = stats.sem(df_movies['average'])\n",
    "# 设定置信水平\n",
    "confidence_level = 0.95\n",
    "# 设定自由度\n",
    "df = len(df_movies['average']) - 1\n",
    "# 计算置信区间\n",
    "confidence_interval = stats.t.interval(confidence_level, df, loc=mean, scale=std_error)\n",
    "# 输出结果\n",
    "print(F\"均值：{mean: .2f}\")\n",
    "print(F\"均值在置信水平{confidence_level}下的置信区间为：\", confidence_interval)"
   ]
  },
  {
   "cell_type": "code",
   "execution_count": 15,
   "metadata": {},
   "outputs": [],
   "source": [
    "# 使用sample函数实现随机抽取"
   ]
  },
  {
   "cell_type": "code",
   "execution_count": 16,
   "metadata": {},
   "outputs": [],
   "source": [
    "# 再计算抽取样本的均值和置信区间"
   ]
  },
  {
   "cell_type": "code",
   "execution_count": 17,
   "metadata": {},
   "outputs": [
    {
     "name": "stdout",
     "output_type": "stream",
     "text": [
      "      Unnamed: 0  average              country                     genre  \\\n",
      "499          500      6.9            美国 / 中国大陆        ['剧情', '动作', '科幻']   \n",
      "1651        1659      8.5   德国 / 波兰 / 葡萄牙 / 法国        ['剧情', '历史', '战争']   \n",
      "4734        5004      5.7                   韩国              ['剧情', '情色']   \n",
      "7463        9210      7.1              美国 / 德国  ['剧情', '动作', '惊悚', '犯罪']   \n",
      "7312        8789      3.1                 中国大陆        ['科幻', '惊悚', '灾难']   \n",
      "...          ...      ...                  ...                       ...   \n",
      "3533        3570      6.1              美国 / 法国        ['动作', '科幻', '惊悚']   \n",
      "7568        9343      7.8                   法国              ['剧情', '喜剧']   \n",
      "7989       10019      6.7                   美国              ['喜剧', '爱情']   \n",
      "6972        8279      7.8                   日本              ['爱情', '动画']   \n",
      "2986        3014      7.9          中国大陆 / 中国香港        ['剧情', '喜剧', '爱情']   \n",
      "\n",
      "                                               language release_date  \\\n",
      "499                                                  英语   2019-10-18   \n",
      "1651                                                 德语   2017-09-07   \n",
      "4734                                                 韩语   2018-08-29   \n",
      "7463                                                 英语   2006-03-03   \n",
      "7312                                         汉语普通话 / 英语   2014-10-10   \n",
      "...                                                 ...          ...   \n",
      "3533                                                 英语   2012-08-07   \n",
      "7568   法语 / 英语 / 汉语普通话 / 西班牙语 / 丹麦语 / 芬兰语 / 希伯来语 / 意...   2007-05-20   \n",
      "7989                                                 英语   2012-04-27   \n",
      "6972                                                 日语   2016-12-17   \n",
      "2986                                                 粤语   2007-06-28   \n",
      "\n",
      "                                                  title     votes  \n",
      "499                                     双子杀手 Gemini Man  280070.0  \n",
      "1651                                 冒牌上尉 Der Hauptmann   36782.0  \n",
      "4734                                          上流社会 상류사회    6322.0  \n",
      "7463                                   勇闯16街区 16 Blocks   19054.0  \n",
      "7312                                                食人虫    3851.0  \n",
      "...                                                 ...       ...  \n",
      "3533                                       太空一号 Lockout   28587.0  \n",
      "7568  每个人都有他自己的电影 Chacun son cinéma ou Ce petit coup...   17187.0  \n",
      "7989                      五年之约 The Five-Year Engagement    9060.0  \n",
      "6972             告白实行委员会：喜欢上你的那个瞬间 好きになるその瞬間を。～告白実行委員会～    1994.0  \n",
      "2986                                              每当变幻时   42699.0  \n",
      "\n",
      "[100 rows x 8 columns]\n"
     ]
    }
   ],
   "source": [
    "# 使用read_csv函数从CSV文件读取数据到DataFrame  \n",
    "file_path = 'data\\movie_data_cleaned.csv' \n",
    "df = pd.read_csv(file_path)  \n",
    "# 使用sample函数随机抽取100行    \n",
    "sample_df = df.sample(n=100) \n",
    "print(sample_df)"
   ]
  },
  {
   "cell_type": "code",
   "execution_count": 18,
   "metadata": {},
   "outputs": [
    {
     "name": "stdout",
     "output_type": "stream",
     "text": [
      "均值： 7.29\n",
      "均值在置信水平0.95下的置信区间为： (7.062489024888144, 7.5195109751118565)\n"
     ]
    }
   ],
   "source": [
    "# 计算均值和标准误差\n",
    "mean =sample_df ['average'].mean()\n",
    "std_error = stats.sem(sample_df['average'])\n",
    "# 设定置信水平\n",
    "confidence_level = 0.95\n",
    "# 设定自由度\n",
    "df = len(sample_df['average']) - 1\n",
    "# 计算置信区间\n",
    "confidence_interval = stats.t.interval(confidence_level, df, loc=mean, scale=std_error)\n",
    "# 输出结果\n",
    "print(F\"均值：{mean: .2f}\")\n",
    "print(F\"均值在置信水平{confidence_level}下的置信区间为：\", confidence_interval)"
   ]
  }
 ],
 "metadata": {
  "kernelspec": {
   "display_name": "Python 3",
   "language": "python",
   "name": "python3"
  },
  "language_info": {
   "codemirror_mode": {
    "name": "ipython",
    "version": 3
   },
   "file_extension": ".py",
   "mimetype": "text/x-python",
   "name": "python",
   "nbconvert_exporter": "python",
   "pygments_lexer": "ipython3",
   "version": "3.8.10"
  }
 },
 "nbformat": 4,
 "nbformat_minor": 2
}
